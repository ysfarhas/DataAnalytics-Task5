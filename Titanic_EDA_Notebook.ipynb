{
 "cells": [
  {
   "cell_type": "markdown",
   "id": "5fe433af",
   "metadata": {},
   "source": [
    "# Titanic Dataset - Exploratory Data Analysis\n",
    "This notebook performs EDA using Pandas, Matplotlib, and Seaborn."
   ]
  },
  {
   "cell_type": "code",
   "execution_count": null,
   "id": "235d4376",
   "metadata": {},
   "outputs": [],
   "source": [
    "import pandas as pd\n",
    "import matplotlib.pyplot as plt\n",
    "import seaborn as sns\n",
    "\n",
    "sns.set(style='whitegrid')"
   ]
  },
  {
   "cell_type": "code",
   "execution_count": null,
   "id": "141eb6eb",
   "metadata": {},
   "outputs": [],
   "source": [
    "df = pd.read_csv('train.csv')\n",
    "df.head()"
   ]
  },
  {
   "cell_type": "markdown",
   "id": "79c5f6bf",
   "metadata": {},
   "source": [
    "## Data Overview"
   ]
  },
  {
   "cell_type": "code",
   "execution_count": null,
   "id": "ad57c74c",
   "metadata": {},
   "outputs": [],
   "source": [
    "df.info()"
   ]
  },
  {
   "cell_type": "markdown",
   "id": "8a9c9a3b",
   "metadata": {},
   "source": [
    "## Descriptive Statistics"
   ]
  },
  {
   "cell_type": "code",
   "execution_count": null,
   "id": "1f435fe7",
   "metadata": {},
   "outputs": [],
   "source": [
    "df.describe()"
   ]
  },
  {
   "cell_type": "markdown",
   "id": "9e75e07e",
   "metadata": {},
   "source": [
    "## Handling Missing Values"
   ]
  },
  {
   "cell_type": "code",
   "execution_count": null,
   "id": "21480e72",
   "metadata": {},
   "outputs": [],
   "source": [
    "df['Age'].fillna(df['Age'].median(), inplace=True)\n",
    "df['Embarked'].fillna(df['Embarked'].mode()[0], inplace=True)\n",
    "df['Cabin'].fillna('Missing', inplace=True)"
   ]
  },
  {
   "cell_type": "markdown",
   "id": "6c223c57",
   "metadata": {},
   "source": [
    "## Categorical Value Counts"
   ]
  },
  {
   "cell_type": "code",
   "execution_count": null,
   "id": "6d0161fa",
   "metadata": {},
   "outputs": [],
   "source": [
    "df['Survived'].value_counts()\n",
    "df['Pclass'].value_counts()\n",
    "df['Sex'].value_counts()\n",
    "df['Embarked'].value_counts()"
   ]
  },
  {
   "cell_type": "markdown",
   "id": "5c761183",
   "metadata": {},
   "source": [
    "## Univariate Visualizations"
   ]
  },
  {
   "cell_type": "code",
   "execution_count": null,
   "id": "98d41be7",
   "metadata": {},
   "outputs": [],
   "source": [
    "df['Age'].hist(bins=30)\n",
    "plt.title('Age Distribution')\n",
    "plt.show()"
   ]
  },
  {
   "cell_type": "code",
   "execution_count": null,
   "id": "4f699ddd",
   "metadata": {},
   "outputs": [],
   "source": [
    "sns.boxplot(x='Fare', data=df)\n",
    "plt.title('Fare Distribution')\n",
    "plt.show()"
   ]
  },
  {
   "cell_type": "markdown",
   "id": "f3ff82b7",
   "metadata": {},
   "source": [
    "## Bivariate Visualizations"
   ]
  },
  {
   "cell_type": "code",
   "execution_count": null,
   "id": "251f367f",
   "metadata": {},
   "outputs": [],
   "source": [
    "sns.countplot(x='Sex', hue='Survived', data=df)\n",
    "plt.title('Survival by Gender')\n",
    "plt.show()"
   ]
  },
  {
   "cell_type": "code",
   "execution_count": null,
   "id": "f5bcb011",
   "metadata": {},
   "outputs": [],
   "source": [
    "sns.countplot(x='Pclass', hue='Survived', data=df)\n",
    "plt.title('Survival by Class')\n",
    "plt.show()"
   ]
  },
  {
   "cell_type": "code",
   "execution_count": null,
   "id": "992262b7",
   "metadata": {},
   "outputs": [],
   "source": [
    "sns.boxplot(x='Survived', y='Age', data=df)\n",
    "plt.title('Age vs Survival')\n",
    "plt.show()"
   ]
  },
  {
   "cell_type": "code",
   "execution_count": null,
   "id": "1f845035",
   "metadata": {},
   "outputs": [],
   "source": [
    "sns.heatmap(df[['Survived', 'Pclass', 'Age', 'Fare', 'SibSp', 'Parch']].corr(), annot=True, cmap='coolwarm')\n",
    "plt.title('Correlation Heatmap')\n",
    "plt.show()"
   ]
  },
  {
   "cell_type": "markdown",
   "id": "0b2aa5d4",
   "metadata": {},
   "source": [
    "## Summary of Findings\n",
    "- Females had a higher survival rate than males.\n",
    "- 1st class passengers were more likely to survive.\n",
    "- Younger passengers and those who paid higher fares were more likely to survive.\n",
    "- Port C (Cherbourg) had higher survival rates.\n",
    "- Strong correlation observed between Fare and Pclass."
   ]
  }
 ],
 "metadata": {},
 "nbformat": 4,
 "nbformat_minor": 5
}
